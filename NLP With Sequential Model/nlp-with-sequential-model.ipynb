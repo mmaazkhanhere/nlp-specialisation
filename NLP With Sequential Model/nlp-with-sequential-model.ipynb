{
 "cells": [
  {
   "cell_type": "code",
   "execution_count": null,
   "metadata": {},
   "outputs": [],
   "source": [
    "import trax\n",
    "from trax import layers\n",
    "\n",
    "# Define a simple neural network\n",
    "model = layers.Serial(\n",
    "    layers.Dense(256),  # Fully connected layer with 256 units\n",
    "    layers.Relu(),  # Rectified Linear Unit activation function\n",
    "    layers.Dense(10),  # Fully connected layer with 10 units (for classification)\n",
    ")"
   ]
  },
  {
   "cell_type": "markdown",
   "metadata": {},
   "source": [
    "Compile the Model"
   ]
  },
  {
   "cell_type": "code",
   "execution_count": null,
   "metadata": {},
   "outputs": [],
   "source": [
    "from trax.supervised import training\n",
    "\n",
    "# Define the loss function and optimizer\n",
    "loss_fn = trax.layers.CrossEntropyLoss()\n",
    "optimizer = trax.optimizers.Adam(learning_rate=0.001)\n",
    "\n",
    "# Compile the model\n",
    "model.compile(optimizer, loss_fn, trax.supervised.training.Accuracy())"
   ]
  },
  {
   "cell_type": "markdown",
   "metadata": {},
   "source": [
    "Training the model"
   ]
  },
  {
   "cell_type": "code",
   "execution_count": null,
   "metadata": {},
   "outputs": [],
   "source": [
    "train_task = trax.supervised.training.TrainTask(\n",
    "    labeled_data=train_data,  # Replace with your training data\n",
    "    loss_layer=loss_fn,\n",
    "    optimizer=optimizer,\n",
    ")\n",
    "\n",
    "eval_task = trax.supervised.training.EvalTask(\n",
    "    labeled_data=eval_data,  # Replace with your evaluation data\n",
    "    metrics=[loss_fn, trax.supervised.training.Accuracy()],\n",
    ")\n",
    "\n",
    "training_loop = trax.supervised.training.Loop(\n",
    "    model=model,\n",
    "    tasks=[train_task],\n",
    "    eval_tasks=[eval_task],\n",
    "    output_dir='./model',  # Replace with your desired output directory\n",
    ")\n",
    "\n",
    "training_loop.run(n_steps=1000)  # Replace with the desired number of training steps\n"
   ]
  },
  {
   "cell_type": "code",
   "execution_count": 2,
   "metadata": {},
   "outputs": [
    {
     "name": "stdout",
     "output_type": "stream",
     "text": [
      "14\n"
     ]
    }
   ],
   "source": [
    "from typing import Any\n",
    "\n",
    "\n",
    "class MyCkass(object):\n",
    "    def __init__(self, y):\n",
    "        self.y = y\n",
    "    def my_method(self, x):\n",
    "        return x + self.y\n",
    "    def __call__(self, x):\n",
    "        return self.my_method(x)\n",
    "\n",
    "f = MyCkass(12)\n",
    "\n",
    "print(f(2))"
   ]
  },
  {
   "cell_type": "code",
   "execution_count": 3,
   "metadata": {},
   "outputs": [
    {
     "ename": "SyntaxError",
     "evalue": "invalid syntax (977503045.py, line 1)",
     "output_type": "error",
     "traceback": [
      "\u001b[1;36m  Cell \u001b[1;32mIn[3], line 1\u001b[1;36m\u001b[0m\n\u001b[1;33m    def scan (fn, elems, initalizer=None, ...):\u001b[0m\n\u001b[1;37m                                          ^\u001b[0m\n\u001b[1;31mSyntaxError\u001b[0m\u001b[1;31m:\u001b[0m invalid syntax\n"
     ]
    }
   ],
   "source": [
    "def scan (fn, elems, initalizer=None, ...):\n",
    "    cur_value = initalizer\n",
    "    ys= []\n",
    "    \n",
    "    for x in elems:\n",
    "        y, cur_value = fn(x, cur_value)\n",
    "        ys.append(y)\n",
    "    return ys, cur_value"
   ]
  },
  {
   "cell_type": "code",
   "execution_count": null,
   "metadata": {},
   "outputs": [],
   "source": []
  }
 ],
 "metadata": {
  "kernelspec": {
   "display_name": "Python 3",
   "language": "python",
   "name": "python3"
  },
  "language_info": {
   "codemirror_mode": {
    "name": "ipython",
    "version": 3
   },
   "file_extension": ".py",
   "mimetype": "text/x-python",
   "name": "python",
   "nbconvert_exporter": "python",
   "pygments_lexer": "ipython3",
   "version": "3.10.0"
  }
 },
 "nbformat": 4,
 "nbformat_minor": 2
}
